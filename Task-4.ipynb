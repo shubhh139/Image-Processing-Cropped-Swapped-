{
 "cells": [
  {
   "cell_type": "code",
   "execution_count": 1,
   "id": "4f9ba527",
   "metadata": {},
   "outputs": [],
   "source": [
    "#image creation\n",
    "import cv2"
   ]
  },
  {
   "cell_type": "code",
   "execution_count": 2,
   "id": "f5510e01",
   "metadata": {},
   "outputs": [],
   "source": [
    "import numpy"
   ]
  },
  {
   "cell_type": "code",
   "execution_count": null,
   "id": "efdfecbf",
   "metadata": {},
   "outputs": [],
   "source": []
  },
  {
   "cell_type": "code",
   "execution_count": 3,
   "id": "482c1d63",
   "metadata": {},
   "outputs": [],
   "source": [
    "#creating a image of 600*600 size\n",
    "img = numpy.ones([600,600,3], dtype = numpy.uint8)"
   ]
  },
  {
   "cell_type": "code",
   "execution_count": 4,
   "id": "0fd31352",
   "metadata": {},
   "outputs": [],
   "source": [
    "#allocating orange colour to rows from 200 to 400 including all columns\n",
    "img[0:201,:] = [64,128,255]"
   ]
  },
  {
   "cell_type": "code",
   "execution_count": 5,
   "id": "0dc4c5d3",
   "metadata": {},
   "outputs": [],
   "source": [
    "#allocating white colour to rows from 200 to 400 including all columns\n",
    "img[201:401,:] = [255,255,255]"
   ]
  },
  {
   "cell_type": "code",
   "execution_count": 6,
   "id": "ee15816e",
   "metadata": {},
   "outputs": [],
   "source": [
    "#allocating green colour to rows from 400 to 600 including all columns\n",
    "img[401:601,:] = [0,255,0]"
   ]
  },
  {
   "cell_type": "code",
   "execution_count": 7,
   "id": "3e8953c0",
   "metadata": {},
   "outputs": [],
   "source": [
    "#creating a circle with radius of 100 filled with blue colour\n",
    "img = cv2.circle(img, (300,300), (100),(255,0,0), -1)"
   ]
  },
  {
   "cell_type": "code",
   "execution_count": 8,
   "id": "b1e7f395",
   "metadata": {},
   "outputs": [],
   "source": [
    "cv2.imshow(\"Display\", img)\n",
    "cv2.waitKey()\n",
    "cv2.destroyAllWindows()"
   ]
  },
  {
   "cell_type": "code",
   "execution_count": null,
   "id": "88b16928",
   "metadata": {},
   "outputs": [],
   "source": [
    "img2 = numpy.ones([600,600,3])"
   ]
  },
  {
   "cell_type": "code",
   "execution_count": null,
   "id": "096145e0",
   "metadata": {},
   "outputs": [],
   "source": [
    "#for creating circle, (image, centre_coordinate, radius, colour, value(negative for filling/ positive for drawing circle outline))\n",
    "img2 = cv2.circle(img2, (300,300), (200), (0,0,0), 7)\n",
    "img2 = cv2.circle(img2, (200,200), (15), (0,0,0), -1)\n",
    "img2 = cv2.circle(img2, (500,500), (15), (0,0,0), -1)"
   ]
  },
  {
   "cell_type": "code",
   "execution_count": null,
   "id": "3e836239",
   "metadata": {},
   "outputs": [],
   "source": [
    "cv2.imshow(\"Display\", img2)\n",
    "cv2.waitKey()\n",
    "cv2.destroyAllWindows()"
   ]
  },
  {
   "cell_type": "code",
   "execution_count": null,
   "id": "5ba15a64",
   "metadata": {},
   "outputs": [],
   "source": []
  },
  {
   "cell_type": "code",
   "execution_count": null,
   "id": "69bae32a",
   "metadata": {},
   "outputs": [],
   "source": []
  },
  {
   "cell_type": "code",
   "execution_count": null,
   "id": "fae42965",
   "metadata": {},
   "outputs": [],
   "source": []
  },
  {
   "cell_type": "code",
   "execution_count": null,
   "id": "199718f5",
   "metadata": {},
   "outputs": [],
   "source": [
    "#CROPPING AND SWAPPING"
   ]
  },
  {
   "cell_type": "code",
   "execution_count": 35,
   "id": "e5b24c0c",
   "metadata": {},
   "outputs": [],
   "source": [
    "rob = cv2.imread(\"rob.jpg\")"
   ]
  },
  {
   "cell_type": "code",
   "execution_count": 36,
   "id": "f9856cb3",
   "metadata": {},
   "outputs": [],
   "source": [
    "hal = cv2.imread(\"hal.jpg\")"
   ]
  },
  {
   "cell_type": "code",
   "execution_count": 11,
   "id": "533d9c85",
   "metadata": {},
   "outputs": [
    {
     "data": {
      "text/plain": [
       "(196, 257, 3)"
      ]
     },
     "execution_count": 11,
     "metadata": {},
     "output_type": "execute_result"
    }
   ],
   "source": [
    "rob.shape"
   ]
  },
  {
   "cell_type": "code",
   "execution_count": 12,
   "id": "4ffa9767",
   "metadata": {},
   "outputs": [
    {
     "data": {
      "text/plain": [
       "(200, 252, 3)"
      ]
     },
     "execution_count": 12,
     "metadata": {},
     "output_type": "execute_result"
    }
   ],
   "source": [
    "hal.shape"
   ]
  },
  {
   "cell_type": "code",
   "execution_count": null,
   "id": "2bb90f96",
   "metadata": {},
   "outputs": [],
   "source": [
    "hal = cv2.rectangle(hal, (90,7),(160,82) , [0,0,255], 1)"
   ]
  },
  {
   "cell_type": "code",
   "execution_count": null,
   "id": "288b5dc6",
   "metadata": {},
   "outputs": [],
   "source": [
    "cv2.imshow(\"Rectangle_face1\", hal)\n",
    "cv2.waitKey()\n",
    "cv2.destroyAllWindows()"
   ]
  },
  {
   "cell_type": "code",
   "execution_count": null,
   "id": "c58405f4",
   "metadata": {},
   "outputs": [],
   "source": []
  },
  {
   "cell_type": "code",
   "execution_count": null,
   "id": "f7bcb51a",
   "metadata": {},
   "outputs": [],
   "source": [
    "rob = cv2.rectangle(rob, (90,15),(175 ,92) , [0,0,255], 1)"
   ]
  },
  {
   "cell_type": "code",
   "execution_count": null,
   "id": "1eb071ac",
   "metadata": {},
   "outputs": [],
   "source": [
    "cv2.imshow(\"Rectangle_face2\", rob)\n",
    "cv2.waitKey()\n",
    "cv2.destroyAllWindows()"
   ]
  },
  {
   "cell_type": "code",
   "execution_count": null,
   "id": "f31a57b8",
   "metadata": {},
   "outputs": [],
   "source": []
  },
  {
   "cell_type": "code",
   "execution_count": 13,
   "id": "15d7e41e",
   "metadata": {},
   "outputs": [],
   "source": [
    "crop_hal = hal[7:82, 90:160]"
   ]
  },
  {
   "cell_type": "code",
   "execution_count": 14,
   "id": "0d258574",
   "metadata": {},
   "outputs": [],
   "source": [
    "cv2.imshow(\"Cropped_face1\", crop_hal)\n",
    "cv2.waitKey()\n",
    "cv2.destroyAllWindows()"
   ]
  },
  {
   "cell_type": "code",
   "execution_count": null,
   "id": "0f10d728",
   "metadata": {},
   "outputs": [],
   "source": []
  },
  {
   "cell_type": "code",
   "execution_count": 24,
   "id": "f4ebbf87",
   "metadata": {},
   "outputs": [],
   "source": [
    "crop_rob = rob[15:92, 90:175]"
   ]
  },
  {
   "cell_type": "code",
   "execution_count": 16,
   "id": "c0759d0a",
   "metadata": {},
   "outputs": [],
   "source": [
    "cv2.imshow(\"Cropped_face2\", crop_rob)\n",
    "cv2.waitKey()\n",
    "cv2.destroyAllWindows()"
   ]
  },
  {
   "cell_type": "code",
   "execution_count": 17,
   "id": "3fd8de05",
   "metadata": {},
   "outputs": [
    {
     "data": {
      "text/plain": [
       "(75, 70, 3)"
      ]
     },
     "execution_count": 17,
     "metadata": {},
     "output_type": "execute_result"
    }
   ],
   "source": [
    "crop_hal.shape"
   ]
  },
  {
   "cell_type": "code",
   "execution_count": 18,
   "id": "5214a289",
   "metadata": {},
   "outputs": [],
   "source": [
    "rob[15:90, 90:160] = crop_hal"
   ]
  },
  {
   "cell_type": "code",
   "execution_count": 19,
   "id": "a1e583b4",
   "metadata": {},
   "outputs": [],
   "source": [
    "cv2.imshow(\"Display\", rob)\n",
    "cv2.waitKey()\n",
    "cv2.destroyAllWindows()"
   ]
  },
  {
   "cell_type": "code",
   "execution_count": null,
   "id": "fbf3c5ff",
   "metadata": {},
   "outputs": [],
   "source": []
  },
  {
   "cell_type": "code",
   "execution_count": null,
   "id": "12e90f78",
   "metadata": {},
   "outputs": [],
   "source": []
  },
  {
   "cell_type": "code",
   "execution_count": null,
   "id": "303f4877",
   "metadata": {},
   "outputs": [],
   "source": [
    "crop_rob.shape"
   ]
  },
  {
   "cell_type": "code",
   "execution_count": null,
   "id": "550eb329",
   "metadata": {},
   "outputs": [],
   "source": [
    "hal[7:82,90:160].shape"
   ]
  },
  {
   "cell_type": "code",
   "execution_count": null,
   "id": "fa6284a8",
   "metadata": {},
   "outputs": [],
   "source": []
  },
  {
   "cell_type": "code",
   "execution_count": 25,
   "id": "24da3bcf",
   "metadata": {},
   "outputs": [],
   "source": [
    "hal[7:84,90:175] = crop_rob"
   ]
  },
  {
   "cell_type": "code",
   "execution_count": 26,
   "id": "0f992718",
   "metadata": {},
   "outputs": [],
   "source": [
    "cv2.imshow(\"Display\", hal)\n",
    "cv2.waitKey()\n",
    "cv2.destroyAllWindows()"
   ]
  },
  {
   "cell_type": "code",
   "execution_count": null,
   "id": "f694e7ef",
   "metadata": {},
   "outputs": [],
   "source": []
  },
  {
   "cell_type": "code",
   "execution_count": null,
   "id": "4f98cc62",
   "metadata": {},
   "outputs": [],
   "source": []
  },
  {
   "cell_type": "code",
   "execution_count": null,
   "id": "af74d485",
   "metadata": {},
   "outputs": [],
   "source": []
  },
  {
   "cell_type": "code",
   "execution_count": null,
   "id": "b6535c9e",
   "metadata": {},
   "outputs": [],
   "source": []
  },
  {
   "cell_type": "code",
   "execution_count": null,
   "id": "cc2e6b56",
   "metadata": {},
   "outputs": [],
   "source": [
    "#COMBINING FOR COLLAGE"
   ]
  },
  {
   "cell_type": "code",
   "execution_count": null,
   "id": "5b6a18f7",
   "metadata": {},
   "outputs": [],
   "source": []
  },
  {
   "cell_type": "code",
   "execution_count": null,
   "id": "c81bdea2",
   "metadata": {},
   "outputs": [],
   "source": [
    "#RESHAPING for same DIMENSION"
   ]
  },
  {
   "cell_type": "code",
   "execution_count": 37,
   "id": "3b77da55",
   "metadata": {},
   "outputs": [
    {
     "data": {
      "text/plain": [
       "(196, 257, 3)"
      ]
     },
     "execution_count": 37,
     "metadata": {},
     "output_type": "execute_result"
    }
   ],
   "source": [
    "rob.shape"
   ]
  },
  {
   "cell_type": "code",
   "execution_count": 38,
   "id": "9f7c1b9f",
   "metadata": {},
   "outputs": [
    {
     "data": {
      "text/plain": [
       "(200, 252, 3)"
      ]
     },
     "execution_count": 38,
     "metadata": {},
     "output_type": "execute_result"
    }
   ],
   "source": [
    "hal.shape"
   ]
  },
  {
   "cell_type": "code",
   "execution_count": 39,
   "id": "928cec79",
   "metadata": {},
   "outputs": [],
   "source": [
    "hal = hal[0:196]"
   ]
  },
  {
   "cell_type": "code",
   "execution_count": 40,
   "id": "17c40389",
   "metadata": {},
   "outputs": [],
   "source": [
    "rob = rob[:,0:252]"
   ]
  },
  {
   "cell_type": "code",
   "execution_count": 41,
   "id": "0e0aad5d",
   "metadata": {},
   "outputs": [
    {
     "data": {
      "text/plain": [
       "(196, 252, 3)"
      ]
     },
     "execution_count": 41,
     "metadata": {},
     "output_type": "execute_result"
    }
   ],
   "source": [
    "hal.shape"
   ]
  },
  {
   "cell_type": "code",
   "execution_count": 42,
   "id": "ce168dc1",
   "metadata": {},
   "outputs": [
    {
     "data": {
      "text/plain": [
       "(196, 252, 3)"
      ]
     },
     "execution_count": 42,
     "metadata": {},
     "output_type": "execute_result"
    }
   ],
   "source": [
    "rob.shape"
   ]
  },
  {
   "cell_type": "code",
   "execution_count": 43,
   "id": "4288b60f",
   "metadata": {},
   "outputs": [],
   "source": [
    "#horizontal collage\n",
    "hor = numpy.hstack((rob,hal))"
   ]
  },
  {
   "cell_type": "code",
   "execution_count": 45,
   "id": "df50b777",
   "metadata": {},
   "outputs": [],
   "source": [
    "cv2.imshow(\"Horizontal Collage\", hor)\n",
    "cv2.waitKey()\n",
    "cv2.destroyAllWindows()"
   ]
  },
  {
   "cell_type": "code",
   "execution_count": 46,
   "id": "36f55e13",
   "metadata": {},
   "outputs": [],
   "source": [
    "#vertical collage\n",
    "ver = numpy.vstack((hal,rob))"
   ]
  },
  {
   "cell_type": "code",
   "execution_count": 48,
   "id": "8a8e7a8b",
   "metadata": {},
   "outputs": [],
   "source": [
    "cv2.imshow(\"Vertical Collage\", ver)\n",
    "cv2.waitKey()\n",
    "cv2.destroyAllWindows()"
   ]
  },
  {
   "cell_type": "code",
   "execution_count": null,
   "id": "72c26417",
   "metadata": {},
   "outputs": [],
   "source": []
  },
  {
   "cell_type": "code",
   "execution_count": null,
   "id": "526d4683",
   "metadata": {},
   "outputs": [],
   "source": []
  },
  {
   "cell_type": "code",
   "execution_count": null,
   "id": "e2a89ca2",
   "metadata": {},
   "outputs": [],
   "source": []
  },
  {
   "cell_type": "code",
   "execution_count": null,
   "id": "a5d017e2",
   "metadata": {},
   "outputs": [],
   "source": []
  },
  {
   "cell_type": "code",
   "execution_count": null,
   "id": "d4eea3da",
   "metadata": {},
   "outputs": [],
   "source": []
  },
  {
   "cell_type": "code",
   "execution_count": null,
   "id": "a259f224",
   "metadata": {},
   "outputs": [],
   "source": []
  },
  {
   "cell_type": "code",
   "execution_count": null,
   "id": "f5a942e1",
   "metadata": {},
   "outputs": [],
   "source": []
  },
  {
   "cell_type": "code",
   "execution_count": null,
   "id": "abc23966",
   "metadata": {},
   "outputs": [],
   "source": []
  },
  {
   "cell_type": "code",
   "execution_count": null,
   "id": "1a04b47c",
   "metadata": {},
   "outputs": [],
   "source": []
  },
  {
   "cell_type": "code",
   "execution_count": null,
   "id": "95b3399a",
   "metadata": {},
   "outputs": [],
   "source": []
  },
  {
   "cell_type": "code",
   "execution_count": null,
   "id": "fc20fd11",
   "metadata": {},
   "outputs": [],
   "source": []
  },
  {
   "cell_type": "code",
   "execution_count": null,
   "id": "857d826f",
   "metadata": {},
   "outputs": [],
   "source": []
  },
  {
   "cell_type": "code",
   "execution_count": null,
   "id": "67f6c559",
   "metadata": {},
   "outputs": [],
   "source": []
  },
  {
   "cell_type": "code",
   "execution_count": null,
   "id": "2b082e5f",
   "metadata": {},
   "outputs": [],
   "source": []
  },
  {
   "cell_type": "code",
   "execution_count": null,
   "id": "37689229",
   "metadata": {},
   "outputs": [],
   "source": []
  }
 ],
 "metadata": {
  "kernelspec": {
   "display_name": "Python 3",
   "language": "python",
   "name": "python3"
  },
  "language_info": {
   "codemirror_mode": {
    "name": "ipython",
    "version": 3
   },
   "file_extension": ".py",
   "mimetype": "text/x-python",
   "name": "python",
   "nbconvert_exporter": "python",
   "pygments_lexer": "ipython3",
   "version": "3.8.8"
  }
 },
 "nbformat": 4,
 "nbformat_minor": 5
}
